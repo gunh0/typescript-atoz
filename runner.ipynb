{
 "cells": [
  {
   "cell_type": "code",
   "execution_count": 1,
   "metadata": {},
   "outputs": [
    {
     "name": "stdout",
     "output_type": "stream",
     "text": [
      "hello\n"
     ]
    }
   ],
   "source": [
    "!ts-node hello.ts"
   ]
  },
  {
   "cell_type": "code",
   "execution_count": 2,
   "metadata": {},
   "outputs": [
    {
     "name": "stdout",
     "output_type": "stream",
     "text": [
      "John Doe\n",
      "\u001b[33m30\u001b[39m\n",
      "male\n",
      "John Doe\n",
      "\u001b[33m30\u001b[39m\n",
      "male\n",
      "Seoul\n",
      "South Korea\n",
      "apple\n",
      "banana\n",
      "orange\n",
      "apple\n",
      "banana\n",
      "[ \u001b[32m'orange'\u001b[39m, \u001b[32m'grape'\u001b[39m, \u001b[32m'kiwi'\u001b[39m ]\n"
     ]
    }
   ],
   "source": [
    "!ts-node ./00_ESNext-core/1_dstructuring-assignment.ts"
   ]
  },
  {
   "cell_type": "code",
   "execution_count": 3,
   "metadata": {},
   "outputs": [
    {
     "name": "stdout",
     "output_type": "stream",
     "text": [
      "\u001b[33m3\u001b[39m\n",
      "\u001b[33m12\u001b[39m\n",
      "Hello!\n",
      "My name is John and I am 30 years old.\n"
     ]
    }
   ],
   "source": [
    "!ts-node ./00_ESNext-core/2_arrow-function.ts"
   ]
  },
  {
   "cell_type": "code",
   "execution_count": 4,
   "metadata": {},
   "outputs": [
    {
     "name": "stdout",
     "output_type": "stream",
     "text": [
      "[ \u001b[32m'meow'\u001b[39m, \u001b[32m'woof'\u001b[39m ]\n"
     ]
    }
   ],
   "source": [
    "!ts-node ./00_ESNext-core/3_class.ts"
   ]
  },
  {
   "cell_type": "code",
   "execution_count": null,
   "metadata": {},
   "outputs": [],
   "source": []
  }
 ],
 "metadata": {
  "kernelspec": {
   "display_name": "base",
   "language": "python",
   "name": "python3"
  },
  "language_info": {
   "codemirror_mode": {
    "name": "ipython",
    "version": 3
   },
   "file_extension": ".py",
   "mimetype": "text/x-python",
   "name": "python",
   "nbconvert_exporter": "python",
   "pygments_lexer": "ipython3",
   "version": "3.10.9"
  },
  "orig_nbformat": 4
 },
 "nbformat": 4,
 "nbformat_minor": 2
}
